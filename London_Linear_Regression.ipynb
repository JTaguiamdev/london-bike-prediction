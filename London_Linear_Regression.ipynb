{
 "cells": [
  {
   "cell_type": "code",
   "execution_count": 7,
   "id": "6e7dd1a8",
   "metadata": {},
   "outputs": [
    {
     "name": "stdout",
     "output_type": "stream",
     "text": [
      "✅ All packages imported successfully!\n",
      "🚴‍♂️ London Bike Sharing Prediction Project\n",
      "==================================================\n"
     ]
    }
   ],
   "source": [
    "import pandas as pd\n",
    "import numpy as np\n",
    "from sklearn.linear_model import LinearRegression\n",
    "from sklearn.model_selection import train_test_split\n",
    "from sklearn.metrics import mean_squared_error, r2_score, mean_absolute_error\n",
    "\n",
    "print(\"✅ All packages imported successfully!\")\n",
    "print(\"🚴‍♂️ London Bike Sharing Prediction Project\")\n",
    "print(\"=\" * 50)"
   ]
  },
  {
   "cell_type": "code",
   "execution_count": 8,
   "id": "2894a7a8",
   "metadata": {},
   "outputs": [
    {
     "name": "stdout",
     "output_type": "stream",
     "text": [
      "📊 Dataset loaded: 17,414 records with 10 features\n",
      "\n",
      "📋 First 5 rows:\n",
      "             timestamp  cnt   t1   t2    hum  wind_speed  weather_code  \\\n",
      "0  2015-01-04 00:00:00  182  3.0  2.0   93.0         6.0           3.0   \n",
      "1  2015-01-04 01:00:00  138  3.0  2.5   93.0         5.0           1.0   \n",
      "2  2015-01-04 02:00:00  134  2.5  2.5   96.5         0.0           1.0   \n",
      "3  2015-01-04 03:00:00   72  2.0  2.0  100.0         0.0           1.0   \n",
      "4  2015-01-04 04:00:00   47  2.0  0.0   93.0         6.5           1.0   \n",
      "\n",
      "   is_holiday  is_weekend  season  \n",
      "0         0.0         1.0     3.0  \n",
      "1         0.0         1.0     3.0  \n",
      "2         0.0         1.0     3.0  \n",
      "3         0.0         1.0     3.0  \n",
      "4         0.0         1.0     3.0  \n",
      "\n",
      "📈 Dataset Info:\n",
      "Memory usage: 2.3 MB\n",
      "Date range: 2015-01-04 00:00:00 to 2017-01-03 23:00:00\n",
      "Missing values: 0\n"
     ]
    }
   ],
   "source": [
    "# Load and explore the dataset\n",
    "df = pd.read_csv('london_merged.csv')\n",
    "\n",
    "print(f\"📊 Dataset loaded: {df.shape[0]:,} records with {df.shape[1]} features\")\n",
    "print(\"\\n📋 First 5 rows:\")\n",
    "print(df.head())\n",
    "\n",
    "print(f\"\\n📈 Dataset Info:\")\n",
    "print(f\"Memory usage: {df.memory_usage(deep=True).sum() / 1024**2:.1f} MB\")\n",
    "print(f\"Date range: {df['timestamp'].min()} to {df['timestamp'].max()}\")\n",
    "print(f\"Missing values: {df.isnull().sum().sum()}\")\n"
   ]
  },
  {
   "cell_type": "code",
   "execution_count": 9,
   "id": "2142db22",
   "metadata": {},
   "outputs": [
    {
     "name": "stdout",
     "output_type": "stream",
     "text": [
      "📊 STATISTICAL SUMMARY:\n",
      "                cnt            t1            t2           hum    wind_speed  \\\n",
      "count  17414.000000  17414.000000  17414.000000  17414.000000  17414.000000   \n",
      "mean    1143.101642     12.468091     11.520836     72.324954     15.913063   \n",
      "std     1085.108068      5.571818      6.615145     14.313186      7.894570   \n",
      "min        0.000000     -1.500000     -6.000000     20.500000      0.000000   \n",
      "25%      257.000000      8.000000      6.000000     63.000000     10.000000   \n",
      "50%      844.000000     12.500000     12.500000     74.500000     15.000000   \n",
      "75%     1671.750000     16.000000     16.000000     83.000000     20.500000   \n",
      "max     7860.000000     34.000000     34.000000    100.000000     56.500000   \n",
      "\n",
      "       weather_code    is_holiday    is_weekend        season  \n",
      "count  17414.000000  17414.000000  17414.000000  17414.000000  \n",
      "mean       2.722752      0.022051      0.285403      1.492075  \n",
      "std        2.341163      0.146854      0.451619      1.118911  \n",
      "min        1.000000      0.000000      0.000000      0.000000  \n",
      "25%        1.000000      0.000000      0.000000      0.000000  \n",
      "50%        2.000000      0.000000      0.000000      1.000000  \n",
      "75%        3.000000      0.000000      1.000000      2.000000  \n",
      "max       26.000000      1.000000      1.000000      3.000000  \n",
      "\n",
      "🔍 CORRELATION WITH BIKE DEMAND (cnt):\n",
      "t1           |  0.389 | Strong +\n",
      "t2           |  0.369 | Strong +\n",
      "wind_speed   |  0.116 | Moderate\n",
      "is_holiday   | -0.052 | Moderate\n",
      "is_weekend   | -0.096 | Moderate\n",
      "season       | -0.116 | Moderate\n",
      "weather_code | -0.167 | Moderate\n",
      "hum          | -0.463 | Strong -\n"
     ]
    }
   ],
   "source": [
    "# Statistical summary and correlation analysis\n",
    "print(\"📊 STATISTICAL SUMMARY:\")\n",
    "print(df.describe())\n",
    "\n",
    "print(\"\\n🔍 CORRELATION WITH BIKE DEMAND (cnt):\")\n",
    "# Only use numeric columns for correlation\n",
    "numeric_df = df.select_dtypes(include=[np.number])\n",
    "correlation = numeric_df.corr()['cnt'].sort_values(ascending=False)\n",
    "\n",
    "for feature, corr_value in correlation.items():\n",
    "    if feature != 'cnt':\n",
    "        impact = \"Strong +\" if corr_value > 0.3 else \"Strong -\" if corr_value < -0.3 else \"Moderate\"\n",
    "        print(f\"{feature:12} | {corr_value:6.3f} | {impact}\")\n"
   ]
  },
  {
   "cell_type": "code",
   "execution_count": 10,
   "id": "685486c2",
   "metadata": {},
   "outputs": [
    {
     "name": "stdout",
     "output_type": "stream",
     "text": [
      "🛠️ FEATURE ENGINEERING COMPLETE:\n",
      "✅ Features created: 11 total features\n",
      "✅ Feature matrix: (17414, 11)\n",
      "✅ Target variable: (17414,)\n",
      "✅ Target range: 0 to 7860 bikes per hour\n"
     ]
    }
   ],
   "source": [
    "# Feature engineering - create time-based features\n",
    "df['timestamp'] = pd.to_datetime(df['timestamp'])\n",
    "df['hour'] = df['timestamp'].dt.hour\n",
    "df['day_of_year'] = df['timestamp'].dt.dayofyear\n",
    "df['month'] = df['timestamp'].dt.month\n",
    "\n",
    "# Define feature set for modeling\n",
    "feature_columns = [\n",
    "    't1', 't2', 'hum', 'wind_speed', 'weather_code', \n",
    "    'is_holiday', 'is_weekend', 'season', 'hour', \n",
    "    'day_of_year', 'month'\n",
    "]\n",
    "\n",
    "X = df[feature_columns]\n",
    "y = df['cnt']\n",
    "\n",
    "print(\"🛠️ FEATURE ENGINEERING COMPLETE:\")\n",
    "print(f\"✅ Features created: {len(feature_columns)} total features\")\n",
    "print(f\"✅ Feature matrix: {X.shape}\")\n",
    "print(f\"✅ Target variable: {y.shape}\")\n",
    "print(f\"✅ Target range: {y.min()} to {y.max()} bikes per hour\")\n"
   ]
  },
  {
   "cell_type": "code",
   "execution_count": 11,
   "id": "c786b539",
   "metadata": {},
   "outputs": [
    {
     "name": "stdout",
     "output_type": "stream",
     "text": [
      "🎯 80/20 SPLIT CONFIGURATION:\n",
      "Training set: 13,931 samples (80.0%)\n",
      "Testing set:  3,483 samples (20.0%)\n",
      "\n",
      "🚀 MODEL TRAINING COMPLETE!\n",
      "📊 PERFORMANCE METRICS:\n",
      "R² Score (Accuracy):     0.2905 (29.1% variance explained)\n",
      "Mean Absolute Error:     669 bikes per hour\n",
      "Root Mean Square Error:  922 bikes per hour\n",
      "✅ Model shows good predictive power!\n",
      "\n",
      "🎯 Average prediction error: ±669 bikes per hour\n"
     ]
    }
   ],
   "source": [
    "# ===== 80/20 TRAIN-TEST SPLIT ANALYSIS =====\n",
    "print(\"🎯 80/20 SPLIT CONFIGURATION:\")\n",
    "\n",
    "# Split the data (80% training, 20% testing)\n",
    "X_train, X_test, y_train, y_test = train_test_split(\n",
    "    X, y, test_size=0.2, random_state=42\n",
    ")\n",
    "\n",
    "print(f\"Training set: {X_train.shape[0]:,} samples ({X_train.shape[0]/len(X)*100:.1f}%)\")\n",
    "print(f\"Testing set:  {X_test.shape[0]:,} samples ({X_test.shape[0]/len(X)*100:.1f}%)\")\n",
    "\n",
    "# Train the Linear Regression model\n",
    "model = LinearRegression()\n",
    "model.fit(X_train, y_train)\n",
    "\n",
    "# Make predictions\n",
    "y_pred = model.predict(X_test)\n",
    "\n",
    "print(\"\\n🚀 MODEL TRAINING COMPLETE!\")\n",
    "print(\"📊 PERFORMANCE METRICS:\")\n",
    "\n",
    "# Calculate all metrics\n",
    "r2 = r2_score(y_test, y_pred)\n",
    "mae = mean_absolute_error(y_test, y_pred)\n",
    "rmse = np.sqrt(mean_squared_error(y_test, y_pred))\n",
    "\n",
    "# Display results\n",
    "print(f\"R² Score (Accuracy):     {r2:.4f} ({r2*100:.1f}% variance explained)\")\n",
    "print(f\"Mean Absolute Error:     {mae:.0f} bikes per hour\")\n",
    "print(f\"Root Mean Square Error:  {rmse:.0f} bikes per hour\")\n",
    "\n",
    "# Model interpretation\n",
    "if r2 > 0.25:\n",
    "    print(\"✅ Model shows good predictive power!\")\n",
    "else:\n",
    "    print(\"⚠️  Model performance could be improved\")\n",
    "\n",
    "print(f\"\\n🎯 Average prediction error: ±{mae:.0f} bikes per hour\")\n"
   ]
  },
  {
   "cell_type": "code",
   "execution_count": 12,
   "id": "a478d5dc",
   "metadata": {},
   "outputs": [
    {
     "name": "stdout",
     "output_type": "stream",
     "text": [
      "🏆 FEATURE IMPORTANCE ANALYSIS:\n",
      "(Based on Linear Regression coefficients)\n",
      "---------------------------------------------\n",
      "Top factors affecting bike demand:\n",
      "1. is_holiday   |   -280.0 | decreases demand\n",
      "2. is_weekend   |   -205.6 | decreases demand\n",
      "3. month        |     76.0 | increases demand\n",
      "4. t1           |     71.7 | increases demand\n",
      "5. season       |     37.4 | increases demand\n",
      "\n",
      "Model baseline (intercept): 1918.6 bikes per hour\n"
     ]
    }
   ],
   "source": [
    "# Feature importance analysis\n",
    "print(\"🏆 FEATURE IMPORTANCE ANALYSIS:\")\n",
    "print(\"(Based on Linear Regression coefficients)\")\n",
    "print(\"-\" * 45)\n",
    "\n",
    "feature_importance = pd.DataFrame({\n",
    "    'Feature': feature_columns,\n",
    "    'Coefficient': model.coef_,\n",
    "    'Abs_Impact': np.abs(model.coef_)\n",
    "}).sort_values('Abs_Impact', ascending=False)\n",
    "\n",
    "print(\"Top factors affecting bike demand:\")\n",
    "for i, (_, row) in enumerate(feature_importance.head().iterrows(), 1):\n",
    "    direction = \"increases\" if row['Coefficient'] > 0 else \"decreases\"\n",
    "    print(f\"{i}. {row['Feature']:12} | {row['Coefficient']:8.1f} | {direction} demand\")\n",
    "\n",
    "print(f\"\\nModel baseline (intercept): {model.intercept_:.1f} bikes per hour\")\n"
   ]
  },
  {
   "cell_type": "code",
   "execution_count": 13,
   "id": "2cda6c88",
   "metadata": {},
   "outputs": [
    {
     "name": "stdout",
     "output_type": "stream",
     "text": [
      "🔮 SAMPLE PREDICTIONS:\n",
      "Actual vs Predicted (first 10 test samples):\n",
      "----------------------------------------\n",
      "Sample  1:   66 →  770 bikes | Error: 704 | Acc: 0%\n",
      "Sample  2: 1749 →  443 bikes | Error: 1306 | Acc: 25%\n",
      "Sample  3:  172 →  906 bikes | Error: 734 | Acc: 0%\n",
      "Sample  4: 2866 → 1776 bikes | Error: 1090 | Acc: 62%\n",
      "Sample  5: 1550 → 1080 bikes | Error: 470 | Acc: 70%\n",
      "Sample  6: 1479 → 1085 bikes | Error: 394 | Acc: 73%\n",
      "Sample  7:  146 → 1264 bikes | Error: 1118 | Acc: 0%\n",
      "Sample  8:   44 →  703 bikes | Error: 659 | Acc: 0%\n",
      "Sample  9: 1010 → 1480 bikes | Error: 470 | Acc: 53%\n",
      "Sample 10: 3904 →  829 bikes | Error: 3075 | Acc: 21%\n",
      "\n",
      "📈 Model Summary:\n",
      "• Trained on 13,931 samples\n",
      "• Tested on 3,483 samples\n",
      "• Overall accuracy: 29.1%\n",
      "• Average error: ±669 bikes per hour\n",
      "\n",
      "🚴‍♂️ London Bike Prediction Model Complete!\n"
     ]
    }
   ],
   "source": [
    "# Sample predictions to show model performance\n",
    "print(\"🔮 SAMPLE PREDICTIONS:\")\n",
    "print(\"Actual vs Predicted (first 10 test samples):\")\n",
    "print(\"-\" * 40)\n",
    "\n",
    "for i in range(10):\n",
    "    actual = int(y_test.iloc[i])\n",
    "    predicted = int(y_pred[i])\n",
    "    difference = abs(actual - predicted)\n",
    "    accuracy = max(0, 100 - (difference/max(actual, 1) * 100))\n",
    "    \n",
    "    print(f\"Sample {i+1:2d}: {actual:4d} → {predicted:4d} bikes | Error: {difference:3d} | Acc: {accuracy:.0f}%\")\n",
    "\n",
    "print(f\"\\n📈 Model Summary:\")\n",
    "print(f\"• Trained on {X_train.shape[0]:,} samples\")\n",
    "print(f\"• Tested on {X_test.shape[0]:,} samples\") \n",
    "print(f\"• Overall accuracy: {r2*100:.1f}%\")\n",
    "print(f\"• Average error: ±{mae:.0f} bikes per hour\")\n",
    "print(\"\\n🚴‍♂️ London Bike Prediction Model Complete!\")\n"
   ]
  }
 ],
 "metadata": {
  "kernelspec": {
   "display_name": ".venv",
   "language": "python",
   "name": "python3"
  },
  "language_info": {
   "codemirror_mode": {
    "name": "ipython",
    "version": 3
   },
   "file_extension": ".py",
   "mimetype": "text/x-python",
   "name": "python",
   "nbconvert_exporter": "python",
   "pygments_lexer": "ipython3",
   "version": "3.13.7"
  }
 },
 "nbformat": 4,
 "nbformat_minor": 5
}
